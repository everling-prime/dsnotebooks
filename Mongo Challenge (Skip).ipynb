{
 "cells": [
  {
   "cell_type": "markdown",
   "metadata": {},
   "source": [
    "### MongoDB Challenges\n",
    "\n",
    "##### Setup\n",
    "\n",
    "Make sure that mongodb is setup and the database server (`mongod`) is running.\n",
    "\n",
    "We are going to work with reviews of Heavy Metal movies. Hellz Yeah.\n",
    "Unzip and unpickle the following file:\n",
    "\n",
    "[heavy_metal_parsed.pkl.zip](heavy_metal_parsed.pkl.zip)\n",
    "\n",
    "```\n",
    "import pickle\n",
    "with open(\"heavy_metal_parsed.pkl\", 'r') as datafile:\n",
    "    heavy_metal_reviews = pickle.load(datafile)\n",
    "```\n",
    "\n",
    "It's a list of dictionaries. One dictionary per review: perfect for a mongo document.\n",
    "The key `raw` has the full text as a list of lines. For example, to see the first review, you can do:\n",
    "```\n",
    "first_review = heavy_metal_reviews[0]\n",
    "for line in first_review['raw']:\n",
    "    print line\n",
    "```\n",
    "which will give you:\n",
    "\n",
    "    200 MOTELS (1971)\n",
    "    DIRECTORS: Tony Palmer, Frank Zappa\n",
    "    CAST: Frank Zappa, Ringo Starr, Mark Volman, Howard Kaylan, Keith Moon\n",
    "    METAL CRED\n",
    "    Frank Zappa\n",
    "    Nun Desecration\n",
    "    THE MEAT\n",
    "    Beyond his metal sainthood for battling the censor-witches of the PMRC and getting named checked by Deep Purple in â€œSmoke on the Waterâ€, musical visionary Frank Zappa led many rock fans to heavy metal.\n",
    "    And, from there, he led many metal fans to the outer expanses of rockâ€™s possibilities.\n",
    "    Zappa also opened countless banging heads to the far reaches of jazz, classical, doo-wop, and any other art form that could involve (brilliant) noise and (brilliantly dumb) dirty jokes.\n",
    "    200 Motels is Zappaâ€™s first crack at major motion picture madness, and it\n",
    "    embodies the much forgotten cultural moment when acid rock tumbled forever into the black pits of rising heavy metal.\n",
    "    Surrealistic sketches and psychedelic set pieces about the insanity of a being on tour are interspersed among performances in which the Mothers jam with London Philharmonic.\n",
    "    Ringo Starr plays Zappa during the talking parts. Zappa himself, plays guitar throughout, demonstrating how very much of a six-string maestro he was, every lick on par with his future collaborators Steve Vail and Yngwie Malmsteen.\n",
    "    SOLID METAL NUGGETS\n",
    "    - A psychedelic cartoon interlude admiringly tweaks Black Sabbath and Grand Funk Railroad.\n",
    "    - Keith Moon, madman drummer of the Who, pops upâ€”and offâ€”as â€œThe Hot Nun.â€\n",
    "\n",
    "Let's see what other fields each document has:\n",
    "```\n",
    "print first_review.keys()\n",
    "```\n",
    "shows\n",
    "```\n",
    "['raw',\n",
    " 'head',\n",
    " 'metal_cred',\n",
    " 'title',\n",
    " 'direct',\n",
    " 'solid_metal_nuggets',\n",
    " 'cast',\n",
    " 'the_meat',\n",
    " 'year',\n",
    " 'sections']\n",
    "```\n",
    "Basically, each section in the review is parsed into it's own key.\n",
    "\n",
    "Ok, put these documents into a mongodb collection. For these challenges, do not use the `heavy_metal_reviews` list directly. Use mongo queries (you can use the mongo client directly or use pymongo from within python)."
   ]
  },
  {
   "cell_type": "code",
   "execution_count": 3,
   "metadata": {
    "collapsed": true
   },
   "outputs": [],
   "source": [
    "import pickle\n",
    "with open(\"/home/ubuntu/raw_data/heavy_metal_parsed.pkl\", 'rb') as datafile:\n",
    "    heavy_metal_reviews = pickle.load(datafile)"
   ]
  },
  {
   "cell_type": "code",
   "execution_count": 11,
   "metadata": {
    "collapsed": true
   },
   "outputs": [],
   "source": [
    "from pymongo import MongoClient\n",
    "\n",
    "client = MongoClient()\n",
    "db = client.heavy_metal_db\n",
    "#col = db.heavy_metal_collection"
   ]
  },
  {
   "cell_type": "code",
   "execution_count": 10,
   "metadata": {},
   "outputs": [
    {
     "data": {
      "text/plain": [
       "856"
      ]
     },
     "execution_count": 10,
     "metadata": {},
     "output_type": "execute_result"
    }
   ],
   "source": [
    "reviews = heavy_metal_reviews\n",
    "reviews[0].keys()\n",
    "reviews[0]\n",
    "len(reviews)"
   ]
  },
  {
   "cell_type": "code",
   "execution_count": 13,
   "metadata": {
    "collapsed": true
   },
   "outputs": [
    {
     "name": "stderr",
     "output_type": "stream",
     "text": [
      "/home/ubuntu/anaconda3/lib/python3.6/site-packages/ipykernel_launcher.py:2: DeprecationWarning: insert is deprecated. Use insert_one or insert_many instead.\n",
      "  \n"
     ]
    },
    {
     "ename": "DuplicateKeyError",
     "evalue": "E11000 duplicate key error collection: heavy_metal_db.hmm index: _id_ dup key: { : ObjectId('5994e8d5bcbe3f35a22961fc') }",
     "output_type": "error",
     "traceback": [
      "\u001b[0;31m---------------------------------------------------------------------------\u001b[0m",
      "\u001b[0;31mDuplicateKeyError\u001b[0m                         Traceback (most recent call last)",
      "\u001b[0;32m<ipython-input-13-2145ea19bf5c>\u001b[0m in \u001b[0;36m<module>\u001b[0;34m()\u001b[0m\n\u001b[1;32m      1\u001b[0m \u001b[0mhmm\u001b[0m \u001b[0;34m=\u001b[0m \u001b[0mclient\u001b[0m\u001b[0;34m.\u001b[0m\u001b[0mheavy_metal_db\u001b[0m\u001b[0;34m.\u001b[0m\u001b[0mhmm\u001b[0m\u001b[0;34m\u001b[0m\u001b[0m\n\u001b[0;32m----> 2\u001b[0;31m \u001b[0mhmm\u001b[0m\u001b[0;34m.\u001b[0m\u001b[0minsert\u001b[0m\u001b[0;34m(\u001b[0m\u001b[0mreviews\u001b[0m\u001b[0;34m[\u001b[0m\u001b[0;36m0\u001b[0m\u001b[0;34m]\u001b[0m\u001b[0;34m)\u001b[0m\u001b[0;34m\u001b[0m\u001b[0m\n\u001b[0m\u001b[1;32m      3\u001b[0m \u001b[0mhmm\u001b[0m\u001b[0;34m.\u001b[0m\u001b[0mfind\u001b[0m\u001b[0;34m(\u001b[0m\u001b[0;34m)\u001b[0m\u001b[0;34m.\u001b[0m\u001b[0mnext\u001b[0m\u001b[0;34m(\u001b[0m\u001b[0;34m)\u001b[0m\u001b[0;34m\u001b[0m\u001b[0m\n\u001b[1;32m      4\u001b[0m \u001b[0;34m\u001b[0m\u001b[0m\n\u001b[1;32m      5\u001b[0m \u001b[0;32mfor\u001b[0m \u001b[0mreview\u001b[0m \u001b[0;32min\u001b[0m \u001b[0mreviews\u001b[0m\u001b[0;34m[\u001b[0m\u001b[0;36m1\u001b[0m\u001b[0;34m:\u001b[0m\u001b[0;34m]\u001b[0m\u001b[0;34m:\u001b[0m\u001b[0;34m\u001b[0m\u001b[0m\n",
      "\u001b[0;32m/home/ubuntu/anaconda3/lib/python3.6/site-packages/pymongo/collection.py\u001b[0m in \u001b[0;36minsert\u001b[0;34m(self, doc_or_docs, manipulate, check_keys, continue_on_error, **kwargs)\u001b[0m\n\u001b[1;32m   2467\u001b[0m         \u001b[0;32mwith\u001b[0m \u001b[0mself\u001b[0m\u001b[0;34m.\u001b[0m\u001b[0m_socket_for_writes\u001b[0m\u001b[0;34m(\u001b[0m\u001b[0;34m)\u001b[0m \u001b[0;32mas\u001b[0m \u001b[0msock_info\u001b[0m\u001b[0;34m:\u001b[0m\u001b[0;34m\u001b[0m\u001b[0m\n\u001b[1;32m   2468\u001b[0m             return self._insert(sock_info, doc_or_docs, not continue_on_error,\n\u001b[0;32m-> 2469\u001b[0;31m                                 check_keys, manipulate, write_concern)\n\u001b[0m\u001b[1;32m   2470\u001b[0m \u001b[0;34m\u001b[0m\u001b[0m\n\u001b[1;32m   2471\u001b[0m     def update(self, spec, document, upsert=False, manipulate=False,\n",
      "\u001b[0;32m/home/ubuntu/anaconda3/lib/python3.6/site-packages/pymongo/collection.py\u001b[0m in \u001b[0;36m_insert\u001b[0;34m(self, sock_info, docs, ordered, check_keys, manipulate, write_concern, op_id, bypass_doc_val)\u001b[0m\n\u001b[1;32m    560\u001b[0m             return self._insert_one(\n\u001b[1;32m    561\u001b[0m                 \u001b[0msock_info\u001b[0m\u001b[0;34m,\u001b[0m \u001b[0mdocs\u001b[0m\u001b[0;34m,\u001b[0m \u001b[0mordered\u001b[0m\u001b[0;34m,\u001b[0m\u001b[0;34m\u001b[0m\u001b[0m\n\u001b[0;32m--> 562\u001b[0;31m                 check_keys, manipulate, write_concern, op_id, bypass_doc_val)\n\u001b[0m\u001b[1;32m    563\u001b[0m \u001b[0;34m\u001b[0m\u001b[0m\n\u001b[1;32m    564\u001b[0m         \u001b[0mids\u001b[0m \u001b[0;34m=\u001b[0m \u001b[0;34m[\u001b[0m\u001b[0;34m]\u001b[0m\u001b[0;34m\u001b[0m\u001b[0m\n",
      "\u001b[0;32m/home/ubuntu/anaconda3/lib/python3.6/site-packages/pymongo/collection.py\u001b[0m in \u001b[0;36m_insert_one\u001b[0;34m(self, sock_info, doc, ordered, check_keys, manipulate, write_concern, op_id, bypass_doc_val)\u001b[0m\n\u001b[1;32m    542\u001b[0m                 \u001b[0mcodec_options\u001b[0m\u001b[0;34m=\u001b[0m\u001b[0mself\u001b[0m\u001b[0;34m.\u001b[0m\u001b[0m__write_response_codec_options\u001b[0m\u001b[0;34m,\u001b[0m\u001b[0;34m\u001b[0m\u001b[0m\n\u001b[1;32m    543\u001b[0m                 check_keys=check_keys)\n\u001b[0;32m--> 544\u001b[0;31m             \u001b[0m_check_write_command_response\u001b[0m\u001b[0;34m(\u001b[0m\u001b[0;34m[\u001b[0m\u001b[0;34m(\u001b[0m\u001b[0;36m0\u001b[0m\u001b[0;34m,\u001b[0m \u001b[0mresult\u001b[0m\u001b[0;34m)\u001b[0m\u001b[0;34m]\u001b[0m\u001b[0;34m)\u001b[0m\u001b[0;34m\u001b[0m\u001b[0m\n\u001b[0m\u001b[1;32m    545\u001b[0m         \u001b[0;32melse\u001b[0m\u001b[0;34m:\u001b[0m\u001b[0;34m\u001b[0m\u001b[0m\n\u001b[1;32m    546\u001b[0m             \u001b[0;31m# Legacy OP_INSERT.\u001b[0m\u001b[0;34m\u001b[0m\u001b[0;34m\u001b[0m\u001b[0m\n",
      "\u001b[0;32m/home/ubuntu/anaconda3/lib/python3.6/site-packages/pymongo/helpers.py\u001b[0m in \u001b[0;36m_check_write_command_response\u001b[0;34m(results)\u001b[0m\n\u001b[1;32m    312\u001b[0m             \u001b[0merror\u001b[0m\u001b[0;34m[\u001b[0m\u001b[0;34m\"index\"\u001b[0m\u001b[0;34m]\u001b[0m \u001b[0;34m+=\u001b[0m \u001b[0moffset\u001b[0m\u001b[0;34m\u001b[0m\u001b[0m\n\u001b[1;32m    313\u001b[0m             \u001b[0;32mif\u001b[0m \u001b[0merror\u001b[0m\u001b[0;34m.\u001b[0m\u001b[0mget\u001b[0m\u001b[0;34m(\u001b[0m\u001b[0;34m\"code\"\u001b[0m\u001b[0;34m)\u001b[0m \u001b[0;34m==\u001b[0m \u001b[0;36m11000\u001b[0m\u001b[0;34m:\u001b[0m\u001b[0;34m\u001b[0m\u001b[0m\n\u001b[0;32m--> 314\u001b[0;31m                 \u001b[0;32mraise\u001b[0m \u001b[0mDuplicateKeyError\u001b[0m\u001b[0;34m(\u001b[0m\u001b[0merror\u001b[0m\u001b[0;34m.\u001b[0m\u001b[0mget\u001b[0m\u001b[0;34m(\u001b[0m\u001b[0;34m\"errmsg\"\u001b[0m\u001b[0;34m)\u001b[0m\u001b[0;34m,\u001b[0m \u001b[0;36m11000\u001b[0m\u001b[0;34m,\u001b[0m \u001b[0merror\u001b[0m\u001b[0;34m)\u001b[0m\u001b[0;34m\u001b[0m\u001b[0m\n\u001b[0m\u001b[1;32m    315\u001b[0m             \u001b[0;32mraise\u001b[0m \u001b[0mWriteError\u001b[0m\u001b[0;34m(\u001b[0m\u001b[0merror\u001b[0m\u001b[0;34m.\u001b[0m\u001b[0mget\u001b[0m\u001b[0;34m(\u001b[0m\u001b[0;34m\"errmsg\"\u001b[0m\u001b[0;34m)\u001b[0m\u001b[0;34m,\u001b[0m \u001b[0merror\u001b[0m\u001b[0;34m.\u001b[0m\u001b[0mget\u001b[0m\u001b[0;34m(\u001b[0m\u001b[0;34m\"code\"\u001b[0m\u001b[0;34m)\u001b[0m\u001b[0;34m,\u001b[0m \u001b[0merror\u001b[0m\u001b[0;34m)\u001b[0m\u001b[0;34m\u001b[0m\u001b[0m\n\u001b[1;32m    316\u001b[0m         \u001b[0;32melse\u001b[0m\u001b[0;34m:\u001b[0m\u001b[0;34m\u001b[0m\u001b[0m\n",
      "\u001b[0;31mDuplicateKeyError\u001b[0m: E11000 duplicate key error collection: heavy_metal_db.hmm index: _id_ dup key: { : ObjectId('5994e8d5bcbe3f35a22961fc') }"
     ]
    }
   ],
   "source": [
    "hmm = client.heavy_metal_db.hmm\n",
    "hmm.insert(reviews[0])\n",
    "hmm.find().next()\n",
    "\n",
    "for review in reviews[1:]:\n",
    "    hmm.save(review)"
   ]
  },
  {
   "cell_type": "code",
   "execution_count": 15,
   "metadata": {},
   "outputs": [
    {
     "name": "stderr",
     "output_type": "stream",
     "text": [
      "/home/ubuntu/anaconda3/lib/python3.6/site-packages/ipykernel_launcher.py:2: DeprecationWarning: save is deprecated. Use insert_one or replace_one instead\n",
      "  \n"
     ]
    },
    {
     "data": {
      "text/plain": [
       "{'_id': ObjectId('5994e8d5bcbe3f35a22961fc'),\n",
       " 'cast': ['Frank Zappa',\n",
       "  'Ringo Starr',\n",
       "  'Mark Volman',\n",
       "  'Howard Kaylan',\n",
       "  'Keith Moon'],\n",
       " 'direct': ['Tony Palmer', 'Frank Zappa'],\n",
       " 'head': ['200 MOTELS (1971)',\n",
       "  'DIRECTORS: Tony Palmer, Frank Zappa',\n",
       "  'CAST: Frank Zappa, Ringo Starr, Mark Volman, Howard Kaylan, Keith\\nMoon'],\n",
       " 'metal_cred': ['METAL CRED', 'Frank Zappa', 'Nun Desecration'],\n",
       " 'raw': ['200 MOTELS (1971)',\n",
       "  'DIRECTORS: Tony Palmer, Frank Zappa',\n",
       "  'CAST: Frank Zappa, Ringo Starr, Mark Volman, Howard Kaylan, Keith\\nMoon',\n",
       "  'METAL CRED',\n",
       "  'Frank Zappa',\n",
       "  'Nun Desecration',\n",
       "  'THE MEAT',\n",
       "  'Beyond his metal sainthood for\\nbattling the censor-witches of the PMRC and getting named checked by Deep\\nPurple in “Smoke on the Water”, musical visionary Frank Zappa led many rock\\nfans to heavy metal.',\n",
       "  'And, from there, he led many metal\\nfans to the outer expanses of rock’s possibilities.',\n",
       "  'Zappa also opened countless banging\\nheads to the far reaches of jazz, classical, doo-wop, and any other art form\\nthat could involve (brilliant) noise and (brilliantly dumb) dirty jokes.',\n",
       "  '200\\nMotels is Zappa’s first crack at major motion picture madness, and it\\nembodies the much forgotten cultural moment when acid rock tumbled forever into\\nthe black pits of rising heavy metal.',\n",
       "  'Surrealistic sketches and\\npsychedelic set pieces about the insanity of a being on tour are interspersed\\namong performances in which the Mothers jam with London Philharmonic.',\n",
       "  'Ringo Starr plays Zappa during the\\ntalking parts. Zappa himself, plays guitar throughout, demonstrating how very\\nmuch of a six-string maestro he was, every lick on par with his future\\ncollaborators Steve Vail and Yngwie Malmsteen.',\n",
       "  'SOLID METAL NUGGETS',\n",
       "  '• A psychedelic cartoon interlude\\nadmiringly tweaks Black Sabbath and Grand Funk Railroad.',\n",
       "  '• Keith Moon, madman drummer of the\\nWho, pops up—and off—as “The Hot Nun.”'],\n",
       " 'sections': [['200 MOTELS (1971)',\n",
       "   'DIRECTORS: Tony Palmer, Frank Zappa',\n",
       "   'CAST: Frank Zappa, Ringo Starr, Mark Volman, Howard Kaylan, Keith\\nMoon'],\n",
       "  ['METAL CRED', 'Frank Zappa', 'Nun Desecration'],\n",
       "  ['THE MEAT',\n",
       "   'Beyond his metal sainthood for\\nbattling the censor-witches of the PMRC and getting named checked by Deep\\nPurple in “Smoke on the Water”, musical visionary Frank Zappa led many rock\\nfans to heavy metal.',\n",
       "   'And, from there, he led many metal\\nfans to the outer expanses of rock’s possibilities.',\n",
       "   'Zappa also opened countless banging\\nheads to the far reaches of jazz, classical, doo-wop, and any other art form\\nthat could involve (brilliant) noise and (brilliantly dumb) dirty jokes.',\n",
       "   '200\\nMotels is Zappa’s first crack at major motion picture madness, and it\\nembodies the much forgotten cultural moment when acid rock tumbled forever into\\nthe black pits of rising heavy metal.',\n",
       "   'Surrealistic sketches and\\npsychedelic set pieces about the insanity of a being on tour are interspersed\\namong performances in which the Mothers jam with London Philharmonic.',\n",
       "   'Ringo Starr plays Zappa during the\\ntalking parts. Zappa himself, plays guitar throughout, demonstrating how very\\nmuch of a six-string maestro he was, every lick on par with his future\\ncollaborators Steve Vail and Yngwie Malmsteen.'],\n",
       "  ['SOLID METAL NUGGETS',\n",
       "   '• A psychedelic cartoon interlude\\nadmiringly tweaks Black Sabbath and Grand Funk Railroad.',\n",
       "   '• Keith Moon, madman drummer of the\\nWho, pops up—and off—as “The Hot Nun.”']],\n",
       " 'solid_metal_nuggets': ['SOLID METAL NUGGETS',\n",
       "  '• A psychedelic cartoon interlude\\nadmiringly tweaks Black Sabbath and Grand Funk Railroad.',\n",
       "  '• Keith Moon, madman drummer of the\\nWho, pops up—and off—as “The Hot Nun.”'],\n",
       " 'the_meat': ['THE MEAT',\n",
       "  'Beyond his metal sainthood for\\nbattling the censor-witches of the PMRC and getting named checked by Deep\\nPurple in “Smoke on the Water”, musical visionary Frank Zappa led many rock\\nfans to heavy metal.',\n",
       "  'And, from there, he led many metal\\nfans to the outer expanses of rock’s possibilities.',\n",
       "  'Zappa also opened countless banging\\nheads to the far reaches of jazz, classical, doo-wop, and any other art form\\nthat could involve (brilliant) noise and (brilliantly dumb) dirty jokes.',\n",
       "  '200\\nMotels is Zappa’s first crack at major motion picture madness, and it\\nembodies the much forgotten cultural moment when acid rock tumbled forever into\\nthe black pits of rising heavy metal.',\n",
       "  'Surrealistic sketches and\\npsychedelic set pieces about the insanity of a being on tour are interspersed\\namong performances in which the Mothers jam with London Philharmonic.',\n",
       "  'Ringo Starr plays Zappa during the\\ntalking parts. Zappa himself, plays guitar throughout, demonstrating how very\\nmuch of a six-string maestro he was, every lick on par with his future\\ncollaborators Steve Vail and Yngwie Malmsteen.'],\n",
       " 'title': '200 MOTELS',\n",
       " 'year': 1971}"
      ]
     },
     "execution_count": 15,
     "metadata": {},
     "output_type": "execute_result"
    }
   ],
   "source": [
    "#some basic exploration:\n",
    "# lets see what one document looks like:\n",
    "hmm.find_one()"
   ]
  },
  {
   "cell_type": "code",
   "execution_count": 29,
   "metadata": {
    "collapsed": true
   },
   "outputs": [],
   "source": [
    "import matplotlib.pyplot as plt\n",
    "%matplotlib inline\n",
    "import seaborn as sns\n",
    "from pprint import pprint"
   ]
  },
  {
   "cell_type": "markdown",
   "metadata": {},
   "source": [
    "##### Challenge 1\n",
    "Make a histogram of the years in the data. How many metal movies came\n",
    "out over the years?"
   ]
  },
  {
   "cell_type": "code",
   "execution_count": 18,
   "metadata": {},
   "outputs": [
    {
     "data": {
      "text/plain": [
       "856"
      ]
     },
     "execution_count": 18,
     "metadata": {},
     "output_type": "execute_result"
    },
    {
     "data": {
      "image/png": "[encoded data removed]",
      "text/plain": [
       "<matplotlib.figure.Figure at 0x7fc5dbf8df98>"
      ]
     },
     "metadata": {},
     "output_type": "display_data"
    }
   ],
   "source": [
    "all_years = []\n",
    "for film in hmm.find({}, {\"year\": 1, \"_id\": 0}):\n",
    "    all_years.append(film[\"year\"])\n",
    "\n",
    "plt.hist(all_years)\n",
    "\n",
    "hmm.find().count()"
   ]
  },
  {
   "cell_type": "markdown",
   "metadata": {},
   "source": [
    "##### Challenge 2\n",
    "Find the cast member that appeared in most Heavy Metal movies. Is\n",
    "there one that is shared by more than one of these movies? Or are they\n",
    "all completely different actors for every movie?"
   ]
  },
  {
   "cell_type": "code",
   "execution_count": 34,
   "metadata": {},
   "outputs": [
    {
     "name": "stdout",
     "output_type": "stream",
     "text": [
      "[{'_id': '', 'count': 22},\n",
      " {'_id': 'Alice Cooper', 'count': 15},\n",
      " {'_id': 'Christopher Lee', 'count': 14},\n",
      " {'_id': 'Arnold Schwarzenegger', 'count': 10},\n",
      " {'_id': 'Ozzy Osbourne', 'count': 9}]\n"
     ]
    }
   ],
   "source": [
    "from bson.son import SON\n",
    "\n",
    "#pipeline for aggregate:\n",
    "cast_by_num_appearances = [  \n",
    "            {\"$unwind\": \"$cast\"},\n",
    "            {\"$group\": {\"_id\": \"$cast\", \"count\": {\"$sum\": 1}}},\n",
    "            {\"$sort\": SON([(\"count\", -1), (\"_id\", -1)])},\n",
    "            {\"$limit\": 5}\n",
    "            ]\n",
    "\n",
    "pprint(list(hmm.aggregate(cast_by_num_appearances)))"
   ]
  },
  {
   "cell_type": "markdown",
   "metadata": {},
   "source": [
    "##### Challenge 3\n",
    "Find the most used words in Heavy Metal film titles. Is there a word\n",
    "that appears in a lot of them? Is it \"The\"? If it is something like\n",
    "\"the\", How can you get around that? Find one \"meaningful\" word that\n",
    "appears the most (this means non-structural word, unlike \"the\" or \"a\"\n",
    "or \"in\")"
   ]
  },
  {
   "cell_type": "code",
   "execution_count": 60,
   "metadata": {},
   "outputs": [
    {
     "data": {
      "text/plain": [
       "[{'title': '200 MOTELS'},\n",
       " {'title': '300'},\n",
       " {'title': '1984'},\n",
       " {'title': '1990: BRONX WARRIORS'},\n",
       " {'title': '1991: THE YEAR PUNK BROKE'},\n",
       " {'title': '2001: A SPACE ODYSSEY'},\n",
       " {'title': '2019: AFTER THE FALL OF NEW YORK'},\n",
       " {'title': '2020 TEXAS GLADIATORS'},\n",
       " {'title': 'THE ABOMINABLE DR. PHIBES'},\n",
       " {'title': 'ABSURD'}]"
      ]
     },
     "execution_count": 60,
     "metadata": {},
     "output_type": "execute_result"
    }
   ],
   "source": [
    "projection = {\"title\":1, \"_id\":0}\n",
    "titles = hmm.find( {} , projection )\n",
    "list(titles)[:10]"
   ]
  },
  {
   "cell_type": "markdown",
   "metadata": {},
   "source": [
    "##### Challenge 4\n",
    "METAL CRED section lists themes included in these movies that makes\n",
    "them more metal.\n",
    "What were the top 5 metal cred keywords in the 70s? In 80s? In 90s, In\n",
    "2000s?"
   ]
  },
  {
   "cell_type": "markdown",
   "metadata": {},
   "source": [
    "##### Challenge 5\n",
    "Let's use the length of the METAL CRED section as a proxy score for\n",
    "how metal a movie is. Let's call this the METAL SCORE. To each mongo\n",
    "document, add the metal_score as a new field."
   ]
  },
  {
   "cell_type": "markdown",
   "metadata": {},
   "source": [
    "##### Challenge 6\n",
    "Find the director that is MOST METAL per movie (director with the\n",
    "highest average metal score).\n",
    "Remember that some movies have multiple directors."
   ]
  },
  {
   "cell_type": "markdown",
   "metadata": {},
   "source": [
    "##### Challenge 7\n",
    "The majority of directors and actors will have worked on a single\n",
    "movie. See if there are any directors that worked with an actor more\n",
    "than once. If so, find the director-actor duo that have worked\n",
    "together the most times."
   ]
  },
  {
   "cell_type": "markdown",
   "metadata": {},
   "source": [
    "##### Challenge 8\n",
    "Create an index on the 'director' field to make the queries involving\n",
    "it faster.\n",
    "[What is an index?](http://en.wikipedia.org/wiki/Database_index)\n",
    "\n",
    "[Creating an index in mongo](http://docs.mongodb.org/manual/tutorial/create-an-index/)\n",
    "[Creating an index in pymongo](http://api.mongodb.org/python/current/api/pymongo/collection.html?highlight=create_index#pymongo.collection.Collection.create_index)\n",
    "[Single field index on mongo](http://docs.mongodb.org/manual/core/index-single/)\n",
    "[Mongo documentation on indexes](http://docs.mongodb.org/manual/core/indexes/)"
   ]
  },
  {
   "cell_type": "markdown",
   "metadata": {},
   "source": [
    "##### Challenge 9 (Optional challenge for early finishers)\n",
    "For each decade, make a histogram of metal scores.\n",
    "Also, calculate the average metal score for each decade. Which decade\n",
    "was the most pure metal decade?"
   ]
  },
  {
   "cell_type": "markdown",
   "metadata": {},
   "source": [
    "##### Note (rather than a challenge)\n",
    "In the latest version of mongo, you can do a text query.\n",
    "To do this, you need to create one (only one) text-based index.\n",
    "Let's index the_meat field so we can make text search queries on it\n",
    "(in pymongo):\n",
    "\n",
    "db.reviews.create_index([(\"the_meat\", pymongo.TEXT,)])\n",
    "\n",
    "Now you can do text search. For example, let's search for the phrase\n",
    "\"hitting power chords\" within \"the_meat\" fields of all our documents.\n",
    "\n",
    "    db.reviews.find({\"$text\": {\"$search\": \"hitting power\n",
    "    chords\"}}).count()\n",
    "\n",
    "    206\n",
    "\n",
    "It has found 206 reviews. I can print the titles of the first 10\n",
    "reviews that were returned in this text search:\n",
    "\n",
    "    ten_matches = r.find({\"$text\": {\"$search\": \"hitting power chords\"}}).limit(10)\n",
    "    for match in ten_matches:\n",
    "        print match[\"title\"]\n",
    "\n",
    "\n",
    "    DOMINATOR\n",
    "    REPO: THE GENETIC OPERA\n",
    "    GREMLINS 2: THE NEW BATCH\n",
    "    VICE SQUAD\n",
    "    THE JERKY BOYS: THE MOVIE\n",
    "    THE SONG REMAINS THE SAME\n",
    "    THE EXORCIST\n",
    "    THE CROW\n",
    "    CANNIBAL HOLOCAUST\n",
    "    HOSTEL\n",
    "\n",
    "Enjoy your text searches : ) These can be very useful in some apps.\n",
    "\n",
    "\n",
    "### Twitter API Extension\n",
    "\n",
    "Create a mongo collection of tweets about something (anything you\n",
    "choose).\n",
    "\n",
    "Each mongo document should contain the text, username, favorite count\n",
    "and retweet count of the tweet."
   ]
  }
 ],
 "metadata": {
  "kernelspec": {
   "display_name": "Python 3",
   "language": "python",
   "name": "python3"
  },
  "language_info": {
   "codemirror_mode": {
    "name": "ipython",
    "version": 3
   },
   "file_extension": ".py",
   "mimetype": "text/x-python",
   "name": "python",
   "nbconvert_exporter": "python",
   "pygments_lexer": "ipython3",
   "version": "3.6.1"
  }
 },
 "nbformat": 4,
 "nbformat_minor": 2
}
